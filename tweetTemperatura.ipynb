{
  "nbformat": 4,
  "nbformat_minor": 0,
  "metadata": {
    "colab": {
      "provenance": [],
      "authorship_tag": "ABX9TyMoijh3UdEz97/qXehsb7nv",
      "include_colab_link": true
    },
    "kernelspec": {
      "name": "python3",
      "display_name": "Python 3"
    },
    "language_info": {
      "name": "python"
    }
  },
  "cells": [
    {
      "cell_type": "markdown",
      "metadata": {
        "id": "view-in-github",
        "colab_type": "text"
      },
      "source": [
        "<a href=\"https://colab.research.google.com/github/emilytsen/tweetTemperatura/blob/main/tweetTemperatura.ipynb\" target=\"_parent\"><img src=\"https://colab.research.google.com/assets/colab-badge.svg\" alt=\"Open In Colab\"/></a>"
      ]
    },
    {
      "cell_type": "markdown",
      "source": [],
      "metadata": {
        "id": "YwP7aMW6jfdi"
      }
    },
    {
      "cell_type": "markdown",
      "metadata": {
        "id": "7HM4s2op24iR"
      },
      "source": [
        "**Internet das Coisas**\n",
        "\n",
        "Trabalho P2 - Dispositivo virtual para IoT\n",
        "\n",
        "(Emily )"
      ]
    },
    {
      "cell_type": "code",
      "metadata": {
        "id": "UQhGqqL93abC"
      },
      "source": [
        "# importar as bibliotecas\n",
        "from random import randint\n",
        "import time\n",
        "import urllib.request\n"
      ],
      "execution_count": null,
      "outputs": []
    },
    {
      "cell_type": "code",
      "metadata": {
        "id": "VMw-aLXbg1sq",
        "colab": {
          "base_uri": "https://localhost:8080/"
        },
        "outputId": "935c5a24-f4b5-4a4c-a4be-f7f7536f3257"
      },
      "source": [
        "#configurar API ThingSpeak\n",
        "#APIKey\n",
        "myAPI = 'PH4V6URYCX9PN8LZ'\n",
        "\n",
        "#URL base do canal  \n",
        "baseURL = \"https://api.thingspeak.com/update?api_key=\" + myAPI\n",
        "\n",
        "#teste da URL\n",
        "print(baseURL)"
      ],
      "execution_count": null,
      "outputs": [
        {
          "output_type": "stream",
          "name": "stdout",
          "text": [
            "https://api.thingspeak.com/update?api_key=PH4V6URYCX9PN8LZ\n"
          ]
        }
      ]
    },
    {
      "cell_type": "code",
      "metadata": {
        "id": "8C3vFwBO3wiO"
      },
      "source": [
        "#função de gerar dados aleatórios\n",
        "def gerarDados():\n",
        "  temp = randint(0, 50)\n",
        "  umd = randint(40, 100)\n",
        "  return temp, umd"
      ],
      "execution_count": null,
      "outputs": []
    },
    {
      "cell_type": "code",
      "metadata": {
        "colab": {
          "base_uri": "https://localhost:8080/"
        },
        "id": "9djSaWxCzEVR",
        "outputId": "1b29e2f5-7e8a-47a1-8840-c4eb4c96d6c1"
      },
      "source": [
        "#testear se consigo enviar dados para o canal\n",
        "temp, umd = gerarDados()\n",
        "print(baseURL + '&field1=%s&field2=%s' % (temp, umd))"
      ],
      "execution_count": null,
      "outputs": [
        {
          "output_type": "stream",
          "name": "stdout",
          "text": [
            "https://api.thingspeak.com/update?api_key=PH4V6URYCX9PN8LZ&field1=24&field2=49\n"
          ]
        }
      ]
    },
    {
      "cell_type": "code",
      "metadata": {
        "id": "QxrpNQOW4SMF"
      },
      "source": [
        "#programa principal\n",
        "while True:\n",
        "  print(\"Inicializando...\")\n",
        "  try:\n",
        "    print(\"Coletando Dados...\")\n",
        "    temp, umd = gerarDados()\n",
        "    print(\"Temperatura: \", temp, \"Umidade: \", umd)\n",
        "    conn = urllib.request.urlopen(baseURL+'&field1=%s&field2=%s' % (temp, umd))\n",
        "    conn.close()\n",
        "    time.sleep(20)\n",
        "\n",
        "  except:\n",
        "    break"
      ],
      "execution_count": null,
      "outputs": []
    }
  ]
}